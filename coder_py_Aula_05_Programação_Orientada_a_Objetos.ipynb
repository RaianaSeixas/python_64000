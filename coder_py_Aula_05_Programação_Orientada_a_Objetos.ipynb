{
  "cells": [
    {
      "cell_type": "markdown",
      "metadata": {
        "id": "view-in-github",
        "colab_type": "text"
      },
      "source": [
        "<a href=\"https://colab.research.google.com/github/RaianaSeixas/python_64000/blob/main/coder_py_Aula_05_Programa%C3%A7%C3%A3o_Orientada_a_Objetos.ipynb\" target=\"_parent\"><img src=\"https://colab.research.google.com/assets/colab-badge.svg\" alt=\"Open In Colab\"/></a>"
      ]
    },
    {
      "cell_type": "markdown",
      "metadata": {
        "id": "SSguDxhRXeu6"
      },
      "source": [
        "# Programação Orientada a Objetos"
      ]
    },
    {
      "cell_type": "code",
      "source": [
        "class Animal:\n",
        "    def __init__(self, nome, especie, raca):\n",
        "        self.nome = nome\n",
        "        self.especie = especie\n",
        "        self.raca = raca\n",
        "\n",
        "    def comunicacao(self):\n",
        "        if self.especie == \"cachorro\":\n",
        "            print(\"Au!\")\n",
        "        elif self.especie == \"gato\":\n",
        "            print(\"Miau!\")\n",
        "        else:\n",
        "            print(\"?\")"
      ],
      "metadata": {
        "id": "YbG3BXSSYOKN"
      },
      "execution_count": 7,
      "outputs": []
    },
    {
      "cell_type": "code",
      "source": [
        "scooby = Animal(\"Scooby-Doo\", \"cachorro\", \"Dogue Alemão\")\n",
        "garfield = Animal(\"Garfield\", \"gato\", \"Persa\")\n"
      ],
      "metadata": {
        "id": "qUrRaulwYM2W"
      },
      "execution_count": 8,
      "outputs": []
    },
    {
      "cell_type": "code",
      "source": [
        "scooby.nome = \"Scooby-Dooooooo\"\n"
      ],
      "metadata": {
        "id": "PA-i8d5pEb0p"
      },
      "execution_count": 9,
      "outputs": []
    },
    {
      "cell_type": "code",
      "source": [
        "scooby.comunicacao()"
      ],
      "metadata": {
        "colab": {
          "base_uri": "https://localhost:8080/"
        },
        "id": "FrZ88pcFEySJ",
        "outputId": "027c7f98-9228-4aec-8994-09c4a380a0a2"
      },
      "execution_count": 10,
      "outputs": [
        {
          "output_type": "stream",
          "name": "stdout",
          "text": [
            "Au!\n"
          ]
        }
      ]
    },
    {
      "cell_type": "code",
      "source": [
        "objetos = [scooby, garfield]\n",
        "for obj in objetos:\n",
        "    print(obj.nome)\n",
        "    print(obj.especie)\n",
        "    print(obj.raca)\n",
        "    obj.comunicacao()\n",
        "    print('----')"
      ],
      "metadata": {
        "colab": {
          "base_uri": "https://localhost:8080/"
        },
        "id": "3eFKBUACZWxa",
        "outputId": "286524bb-43bf-4ae2-a0f5-f8ea114e6793"
      },
      "execution_count": 11,
      "outputs": [
        {
          "output_type": "stream",
          "name": "stdout",
          "text": [
            "Scooby-Dooooooo\n",
            "cachorro\n",
            "Dogue Alemão\n",
            "Au!\n",
            "----\n",
            "Garfield\n",
            "gato\n",
            "Persa\n",
            "Miau!\n",
            "----\n"
          ]
        }
      ]
    },
    {
      "cell_type": "code",
      "execution_count": 12,
      "metadata": {
        "id": "PZZWktauXevE"
      },
      "outputs": [],
      "source": [
        "class Pessoa:\n",
        "    def __init__(self, nome, idade):\n",
        "        self.nome = nome\n",
        "        self.idade = idade\n",
        "\n",
        "    def aniversario(self):\n",
        "        self.idade += 1"
      ]
    },
    {
      "cell_type": "code",
      "execution_count": 13,
      "metadata": {
        "id": "7BudinOdXevF",
        "outputId": "c64bc67a-3c68-4fb0-c51d-14bb3d6e885d",
        "colab": {
          "base_uri": "https://localhost:8080/"
        }
      },
      "outputs": [
        {
          "output_type": "execute_result",
          "data": {
            "text/plain": [
              "32"
            ]
          },
          "metadata": {},
          "execution_count": 13
        }
      ],
      "source": [
        "joao = Pessoa(\"Joao Vitor\", 32)\n",
        "joao.idade"
      ]
    },
    {
      "cell_type": "code",
      "execution_count": 14,
      "metadata": {
        "id": "T005za3QXevG",
        "outputId": "d8ccfb38-8aa3-4736-d03b-0b6d3456a297",
        "colab": {
          "base_uri": "https://localhost:8080/"
        }
      },
      "outputs": [
        {
          "output_type": "execute_result",
          "data": {
            "text/plain": [
              "28"
            ]
          },
          "metadata": {},
          "execution_count": 14
        }
      ],
      "source": [
        "joao.idade = 25\n",
        "joao.aniversario()\n",
        "joao.aniversario()\n",
        "joao.aniversario()\n",
        "joao.idade"
      ]
    },
    {
      "cell_type": "markdown",
      "metadata": {
        "id": "eQVj6LM5XevH"
      },
      "source": [
        "# Bibliotecas"
      ]
    },
    {
      "cell_type": "code",
      "execution_count": 15,
      "metadata": {
        "id": "KYNAdNwfXevH",
        "outputId": "b5ab82de-0c5e-412b-e4b5-31e308f1c050",
        "colab": {
          "base_uri": "https://localhost:8080/"
        }
      },
      "outputs": [
        {
          "output_type": "execute_result",
          "data": {
            "text/plain": [
              "2.0"
            ]
          },
          "metadata": {},
          "execution_count": 15
        }
      ],
      "source": [
        "import numpy as np\n",
        "\n",
        "#np.sqrt(4)\n",
        "#sqrt(4)\n",
        "sqrt(4)"
      ]
    },
    {
      "cell_type": "code",
      "source": [
        "from numpy import sqrt\n",
        "sqrt(4)"
      ],
      "metadata": {
        "colab": {
          "base_uri": "https://localhost:8080/"
        },
        "id": "kbts7uR_LV_Q",
        "outputId": "b41daf0a-bd9c-40d1-91ab-e4cb47f07f0e"
      },
      "execution_count": 16,
      "outputs": [
        {
          "output_type": "execute_result",
          "data": {
            "text/plain": [
              "2.0"
            ]
          },
          "metadata": {},
          "execution_count": 16
        }
      ]
    },
    {
      "cell_type": "code",
      "source": [
        "arr = np.array([1, 10, 3, 0]) # instanciando um objeto da classe numpy.array\n",
        "arr.size # atributo do objeto"
      ],
      "metadata": {
        "colab": {
          "base_uri": "https://localhost:8080/"
        },
        "id": "WOYX2xGde_2k",
        "outputId": "3149d762-cc2b-48ea-85c1-27c9846cda89"
      },
      "execution_count": 17,
      "outputs": [
        {
          "output_type": "execute_result",
          "data": {
            "text/plain": [
              "4"
            ]
          },
          "metadata": {},
          "execution_count": 17
        }
      ]
    },
    {
      "cell_type": "code",
      "source": [
        "arr.sort() # método de classe\n",
        "arr"
      ],
      "metadata": {
        "colab": {
          "base_uri": "https://localhost:8080/"
        },
        "id": "gR191ecWfQbW",
        "outputId": "3859b621-a340-496b-8c1a-fcd4b8a87cb0"
      },
      "execution_count": 18,
      "outputs": [
        {
          "output_type": "execute_result",
          "data": {
            "text/plain": [
              "array([ 0,  1,  3, 10])"
            ]
          },
          "metadata": {},
          "execution_count": 18
        }
      ]
    },
    {
      "cell_type": "code",
      "execution_count": 19,
      "metadata": {
        "id": "xK6Y9Z1CXevJ"
      },
      "outputs": [],
      "source": [
        "from numpy import mean, sqrt\n",
        "# ou\n",
        "#from numpy import *"
      ]
    },
    {
      "cell_type": "code",
      "source": [
        "sqrt(4) # função de biblioteca"
      ],
      "metadata": {
        "colab": {
          "base_uri": "https://localhost:8080/"
        },
        "id": "VDWWNEu4gS5y",
        "outputId": "0da490b2-b5aa-4c8d-e013-dc7797d20d2a"
      },
      "execution_count": 20,
      "outputs": [
        {
          "output_type": "execute_result",
          "data": {
            "text/plain": [
              "2.0"
            ]
          },
          "metadata": {},
          "execution_count": 20
        }
      ]
    },
    {
      "cell_type": "code",
      "source": [
        "arr.mean()"
      ],
      "metadata": {
        "colab": {
          "base_uri": "https://localhost:8080/"
        },
        "id": "6y8gxpu8gc-f",
        "outputId": "8614b411-5874-4c6c-f2e3-9b3677be5840"
      },
      "execution_count": 21,
      "outputs": [
        {
          "output_type": "execute_result",
          "data": {
            "text/plain": [
              "3.5"
            ]
          },
          "metadata": {},
          "execution_count": 21
        }
      ]
    },
    {
      "cell_type": "code",
      "source": [
        "sum(arr)"
      ],
      "metadata": {
        "colab": {
          "base_uri": "https://localhost:8080/"
        },
        "id": "95FBbGSMkh-_",
        "outputId": "dd09bfef-1a11-44ec-da2b-c1d8ef744f94"
      },
      "execution_count": 22,
      "outputs": [
        {
          "output_type": "execute_result",
          "data": {
            "text/plain": [
              "14"
            ]
          },
          "metadata": {},
          "execution_count": 22
        }
      ]
    },
    {
      "cell_type": "code",
      "source": [
        "arr.sum()"
      ],
      "metadata": {
        "colab": {
          "base_uri": "https://localhost:8080/"
        },
        "id": "XK5vtMyiklsb",
        "outputId": "dc0cca0d-8d64-4115-922e-ba4dea349707"
      },
      "execution_count": 23,
      "outputs": [
        {
          "output_type": "execute_result",
          "data": {
            "text/plain": [
              "14"
            ]
          },
          "metadata": {},
          "execution_count": 23
        }
      ]
    },
    {
      "cell_type": "code",
      "source": [
        "arr.dtype"
      ],
      "metadata": {
        "colab": {
          "base_uri": "https://localhost:8080/"
        },
        "id": "s8MaPyTYkwa8",
        "outputId": "717a5ac5-df23-4e0c-9f46-949e9ff168c9"
      },
      "execution_count": 24,
      "outputs": [
        {
          "output_type": "execute_result",
          "data": {
            "text/plain": [
              "dtype('int64')"
            ]
          },
          "metadata": {},
          "execution_count": 24
        }
      ]
    }
  ],
  "metadata": {
    "kernelspec": {
      "display_name": "Python 3",
      "language": "python",
      "name": "python3"
    },
    "language_info": {
      "codemirror_mode": {
        "name": "ipython",
        "version": 3
      },
      "file_extension": ".py",
      "mimetype": "text/x-python",
      "name": "python",
      "nbconvert_exporter": "python",
      "pygments_lexer": "ipython3",
      "version": "3.10.8"
    },
    "orig_nbformat": 4,
    "vscode": {
      "interpreter": {
        "hash": "9f8688d2bc69c748babb560adc9158621fb8aef49546882c3e4c6326402dd0cc"
      }
    },
    "colab": {
      "provenance": [],
      "include_colab_link": true
    }
  },
  "nbformat": 4,
  "nbformat_minor": 0
}