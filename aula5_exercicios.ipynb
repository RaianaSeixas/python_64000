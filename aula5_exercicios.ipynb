{
 "cells": [
  {
   "cell_type": "markdown",
   "metadata": {},
   "source": [
    "## Importando Módulos\n",
    "Diferentes maneiras"
   ]
  },
  {
   "cell_type": "code",
   "execution_count": 49,
   "metadata": {},
   "outputs": [
    {
     "name": "stdout",
     "output_type": "stream",
     "text": [
      "O dobro de 5 é 10\n"
     ]
    }
   ],
   "source": [
    "import aula5_utils\n",
    "aula5_utils.mostra_dobro(5)"
   ]
  },
  {
   "cell_type": "code",
   "execution_count": 50,
   "metadata": {},
   "outputs": [
    {
     "name": "stdout",
     "output_type": "stream",
     "text": [
      "O dobro de 3 é 6\n"
     ]
    }
   ],
   "source": [
    "from aula5_utils import mostra_dobro as md\n",
    "md(3)"
   ]
  },
  {
   "cell_type": "code",
   "execution_count": 51,
   "metadata": {},
   "outputs": [
    {
     "name": "stdout",
     "output_type": "stream",
     "text": [
      "O dobro de 4 é 8\n"
     ]
    }
   ],
   "source": [
    "import aula5_utils as ut\n",
    "ut.mostra_dobro(4)"
   ]
  },
  {
   "cell_type": "markdown",
   "metadata": {},
   "source": [
    "## Exercícios"
   ]
  },
  {
   "cell_type": "markdown",
   "metadata": {},
   "source": [
    "1- Crie uma classe Retangulo que tenha os atributos base e altura e os métodos area() e perimetro(). Crie um objeto e teste os métodos. \n",
    "\n",
    "2- Crie um arquivo .py e salve a classe Retangulo dentro desse arquivo. Importe a classe de algum outro arquivo e realize testes. "
   ]
  },
  {
   "cell_type": "code",
   "execution_count": 52,
   "metadata": {},
   "outputs": [],
   "source": [
    "from aula5_exercicios import *"
   ]
  },
  {
   "cell_type": "code",
   "execution_count": 53,
   "metadata": {},
   "outputs": [],
   "source": [
    "ret = Retangulo(5,4)"
   ]
  },
  {
   "cell_type": "code",
   "execution_count": 54,
   "metadata": {},
   "outputs": [
    {
     "data": {
      "text/plain": [
       "20"
      ]
     },
     "execution_count": 54,
     "metadata": {},
     "output_type": "execute_result"
    }
   ],
   "source": [
    "ret.area()"
   ]
  },
  {
   "cell_type": "code",
   "execution_count": 55,
   "metadata": {},
   "outputs": [
    {
     "data": {
      "text/plain": [
       "18"
      ]
     },
     "execution_count": 55,
     "metadata": {},
     "output_type": "execute_result"
    }
   ],
   "source": [
    "ret.perimetro()"
   ]
  },
  {
   "cell_type": "code",
   "execution_count": 56,
   "metadata": {},
   "outputs": [
    {
     "data": {
      "text/plain": [
       "aula5_exercicios.Retangulo"
      ]
     },
     "execution_count": 56,
     "metadata": {},
     "output_type": "execute_result"
    }
   ],
   "source": [
    "type(ret)"
   ]
  },
  {
   "cell_type": "markdown",
   "metadata": {},
   "source": [
    "3- Crie uma classe Conta que tenha os atributos saldo e titular e os métodos depositar() e sacar(). Em seguida, instancie essa classe com um saldo inicial e realize algumas operações de depósito e saque para verificar se o saldo está sendo atualizado corretamente."
   ]
  },
  {
   "cell_type": "code",
   "execution_count": 57,
   "metadata": {},
   "outputs": [
    {
     "name": "stdout",
     "output_type": "stream",
     "text": [
      "Titular: Raiana ---> Saldo Atual (R$): 500.00\n"
     ]
    }
   ],
   "source": [
    "id1 = Conta (\"Raiana\", 500)\n",
    "print(id1)"
   ]
  },
  {
   "cell_type": "code",
   "execution_count": 58,
   "metadata": {},
   "outputs": [
    {
     "name": "stdout",
     "output_type": "stream",
     "text": [
      "Saldo inicial (R$): 500.00\n",
      "Depósito (R$): 100.00\n",
      "Titular: Raiana ---> Saldo Atual (R$): 600.00\n"
     ]
    },
    {
     "data": {
      "text/plain": [
       "<aula5_exercicios.Conta at 0x19616deaf20>"
      ]
     },
     "execution_count": 58,
     "metadata": {},
     "output_type": "execute_result"
    }
   ],
   "source": [
    "id1.depositar(100)"
   ]
  },
  {
   "cell_type": "code",
   "execution_count": 59,
   "metadata": {},
   "outputs": [
    {
     "name": "stdout",
     "output_type": "stream",
     "text": [
      "Saldo inicial (R$): 600.00\n",
      "Saque de R$ 300.00\n",
      "Titular: Raiana ---> Saldo Atual (R$): 300.00\n"
     ]
    },
    {
     "data": {
      "text/plain": [
       "<aula5_exercicios.Conta at 0x19616deaf20>"
      ]
     },
     "execution_count": 59,
     "metadata": {},
     "output_type": "execute_result"
    }
   ],
   "source": [
    "id1.sacar(300)"
   ]
  },
  {
   "cell_type": "code",
   "execution_count": 60,
   "metadata": {},
   "outputs": [
    {
     "name": "stdout",
     "output_type": "stream",
     "text": [
      "Saldo inicial (R$): 300.00\n",
      "Tentativa de saque de R$ 500.00\n",
      "Operação não realizada. Saldo insuficiente\n",
      "Titular: Raiana ---> Saldo Atual (R$): 300.00\n"
     ]
    },
    {
     "data": {
      "text/plain": [
       "<aula5_exercicios.Conta at 0x19616deaf20>"
      ]
     },
     "execution_count": 60,
     "metadata": {},
     "output_type": "execute_result"
    }
   ],
   "source": [
    "id1.sacar(500)\n",
    "#print(id1)"
   ]
  },
  {
   "cell_type": "code",
   "execution_count": 61,
   "metadata": {},
   "outputs": [
    {
     "name": "stdout",
     "output_type": "stream",
     "text": [
      "Saldo inicial (R$): 300.00\n",
      "Depósito (R$): 400.00\n",
      "Titular: Raiana ---> Saldo Atual (R$): 700.00\n",
      "Saldo inicial (R$): 700.00\n",
      "Saque de R$ 500.00\n",
      "Titular: Raiana ---> Saldo Atual (R$): 200.00\n"
     ]
    },
    {
     "data": {
      "text/plain": [
       "<aula5_exercicios.Conta at 0x19616deaf20>"
      ]
     },
     "execution_count": 61,
     "metadata": {},
     "output_type": "execute_result"
    }
   ],
   "source": [
    "# O retorno 'self' permite o encadeamento de métodos.\n",
    "\n",
    "id1.depositar(400).sacar(500)"
   ]
  },
  {
   "cell_type": "code",
   "execution_count": 62,
   "metadata": {},
   "outputs": [
    {
     "name": "stdout",
     "output_type": "stream",
     "text": [
      "Saldo inicial (R$): 200.00\n",
      "Saque de R$ 100.00\n",
      "Titular: Raiana ---> Saldo Atual (R$): 100.00\n",
      "Saldo inicial (R$): 100.00\n",
      "Depósito (R$): 200.00\n",
      "Titular: Raiana ---> Saldo Atual (R$): 300.00\n"
     ]
    },
    {
     "data": {
      "text/plain": [
       "<aula5_exercicios.Conta at 0x19616deaf20>"
      ]
     },
     "execution_count": 62,
     "metadata": {},
     "output_type": "execute_result"
    }
   ],
   "source": [
    "#id1.sacar(100).depositar(200)"
   ]
  }
 ],
 "metadata": {
  "kernelspec": {
   "display_name": "Python 3",
   "language": "python",
   "name": "python3"
  },
  "language_info": {
   "codemirror_mode": {
    "name": "ipython",
    "version": 3
   },
   "file_extension": ".py",
   "mimetype": "text/x-python",
   "name": "python",
   "nbconvert_exporter": "python",
   "pygments_lexer": "ipython3",
   "version": "3.10.11"
  }
 },
 "nbformat": 4,
 "nbformat_minor": 2
}
